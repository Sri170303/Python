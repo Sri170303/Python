{
 "cells": [
  {
   "cell_type": "markdown",
   "metadata": {},
   "source": [
    "#### Sentimental Analysis on Tweets"
   ]
  },
  {
   "cell_type": "code",
   "execution_count": 1,
   "metadata": {},
   "outputs": [],
   "source": [
    "tweets = [\n",
    "    {\"username\": \"user1\", \"timestamp\": \"2023-05-01 12:30\", \"likes\": 12, \"retweets\": 4, \"text\": \"I love this game!!! #GameBrand\"},\n",
    "    {\"username\": \"user2\", \"timestamp\": \"2023-05-01 13:15\", \"likes\": 45, \"retweets\": 5, \"text\": \"I can't believe how bad this game is... #GameBrand #Disappointed\"},\n",
    "    {\"username\": \"user3\", \"timestamp\": \"2023-05-01 13:47\", \"likes\": 23, \"retweets\": 2, \"text\": \"What a great game! #GameBrand #Fun\"},\n",
    "    {\"username\": \"user4\", \"timestamp\": \"2023-05-01 14:05\", \"likes\": 78, \"retweets\": 7, \"text\": \"This game is too difficult. #GameBrand #Frustrated\"},\n",
    "    {\"username\": \"user5\", \"timestamp\": \"2023-05-01 14:23\", \"likes\": 45, \"retweets\": 5, \"text\": \"I can't stop playing this game! #GameBrand #Addicted\"},\n",
    "    {\"username\": \"user6\", \"timestamp\": \"2023-05-01 15:00\", \"likes\": 67, \"retweets\": 6, \"text\": \"The graphics in this game are amazing. #GameBrand #Impressed\"},\n",
    "    {\"username\": \"user7\", \"timestamp\": \"2023-05-01 15:30\", \"likes\": 34, \"retweets\": 3, \"text\": \"I wish this game had better controls. #GameBrand #Frustrated\"},\n",
    "    {\"username\": \"user8\", \"timestamp\": \"2023-05-01 16:00\", \"likes\": 23, \"retweets\": 2, \"text\": \"This game is a waste of money. #GameBrand #Disappointed\"},\n",
    "    {\"username\": \"user9\", \"timestamp\": \"2023-05-01 16:45\", \"likes\": 56, \"retweets\": 5, \"text\": \"I can't wait for the sequel! #GameBrand #Excited\"},\n",
    "    {\"username\": \"user10\", \"timestamp\": \"2023-05-01 17:00\", \"likes\": 78, \"retweets\": 7, \"text\": \"This game has too many bugs. #GameBrand #Frustrated\"}\n",
    "]"
   ]
  },
  {
   "cell_type": "code",
   "execution_count": 2,
   "metadata": {},
   "outputs": [],
   "source": [
    "tweet_list = []\n",
    "for i in range(len(tweets)):\n",
    "    text = tweets[i][\"text\"].lower().strip()\n",
    "    tweet_list.append(tweets[i][\"text\"].lower().strip())"
   ]
  },
  {
   "cell_type": "code",
   "execution_count": 3,
   "metadata": {},
   "outputs": [
    {
     "data": {
      "text/plain": [
       "['i love this game!!! #gamebrand',\n",
       " \"i can't believe how bad this game is... #gamebrand #disappointed\",\n",
       " 'what a great game! #gamebrand #fun',\n",
       " 'this game is too difficult. #gamebrand #frustrated',\n",
       " \"i can't stop playing this game! #gamebrand #addicted\",\n",
       " 'the graphics in this game are amazing. #gamebrand #impressed',\n",
       " 'i wish this game had better controls. #gamebrand #frustrated',\n",
       " 'this game is a waste of money. #gamebrand #disappointed',\n",
       " \"i can't wait for the sequel! #gamebrand #excited\",\n",
       " 'this game has too many bugs. #gamebrand #frustrated']"
      ]
     },
     "execution_count": 3,
     "metadata": {},
     "output_type": "execute_result"
    }
   ],
   "source": [
    "tweet_list"
   ]
  },
  {
   "cell_type": "code",
   "execution_count": 4,
   "metadata": {},
   "outputs": [],
   "source": [
    "hashtags_list = []\n",
    "for i in range(len(tweet_list)):\n",
    "    hashtags_list.append([word for word in tweet_list[i].split() if word.startswith('#')])"
   ]
  },
  {
   "cell_type": "code",
   "execution_count": 5,
   "metadata": {},
   "outputs": [
    {
     "data": {
      "text/plain": [
       "[['#gamebrand'],\n",
       " ['#gamebrand', '#disappointed'],\n",
       " ['#gamebrand', '#fun'],\n",
       " ['#gamebrand', '#frustrated'],\n",
       " ['#gamebrand', '#addicted'],\n",
       " ['#gamebrand', '#impressed'],\n",
       " ['#gamebrand', '#frustrated'],\n",
       " ['#gamebrand', '#disappointed'],\n",
       " ['#gamebrand', '#excited'],\n",
       " ['#gamebrand', '#frustrated']]"
      ]
     },
     "execution_count": 5,
     "metadata": {},
     "output_type": "execute_result"
    }
   ],
   "source": [
    "hashtags_list"
   ]
  },
  {
   "cell_type": "code",
   "execution_count": 6,
   "metadata": {},
   "outputs": [],
   "source": [
    "user_tags = {}\n",
    "for i in range(len(tweet_list)):\n",
    "    user_tags[tweets[i][\"username\"]] = [word for word in tweet_list[i].split() if word.startswith('#')]"
   ]
  },
  {
   "cell_type": "code",
   "execution_count": 7,
   "metadata": {},
   "outputs": [
    {
     "data": {
      "text/plain": [
       "{'user1': ['#gamebrand'],\n",
       " 'user2': ['#gamebrand', '#disappointed'],\n",
       " 'user3': ['#gamebrand', '#fun'],\n",
       " 'user4': ['#gamebrand', '#frustrated'],\n",
       " 'user5': ['#gamebrand', '#addicted'],\n",
       " 'user6': ['#gamebrand', '#impressed'],\n",
       " 'user7': ['#gamebrand', '#frustrated'],\n",
       " 'user8': ['#gamebrand', '#disappointed'],\n",
       " 'user9': ['#gamebrand', '#excited'],\n",
       " 'user10': ['#gamebrand', '#frustrated']}"
      ]
     },
     "execution_count": 7,
     "metadata": {},
     "output_type": "execute_result"
    }
   ],
   "source": [
    "user_tags"
   ]
  },
  {
   "cell_type": "code",
   "execution_count": 8,
   "metadata": {},
   "outputs": [],
   "source": [
    "hashtags_set = set()\n",
    "for i in hashtags_list:\n",
    "    for j in i:\n",
    "        hashtags_set.add(j)"
   ]
  },
  {
   "cell_type": "code",
   "execution_count": 9,
   "metadata": {},
   "outputs": [
    {
     "data": {
      "text/plain": [
       "{'#addicted',\n",
       " '#disappointed',\n",
       " '#excited',\n",
       " '#frustrated',\n",
       " '#fun',\n",
       " '#gamebrand',\n",
       " '#impressed'}"
      ]
     },
     "execution_count": 9,
     "metadata": {},
     "output_type": "execute_result"
    }
   ],
   "source": [
    "hashtags_set"
   ]
  },
  {
   "cell_type": "code",
   "execution_count": 10,
   "metadata": {},
   "outputs": [],
   "source": [
    "positive_tags = {\"#addicted\", \"#excited\", \"#fun\", \"#gamebrand\", \"#impressed\"}\n",
    "negative_tags = {\"#disappointed\", \"#frustrated\"}"
   ]
  },
  {
   "cell_type": "code",
   "execution_count": 11,
   "metadata": {},
   "outputs": [],
   "source": [
    "user_sentiments = {}\n",
    "for i in range(len(tweets)):\n",
    "    for j in user_tags[tweets[i]['username']]:\n",
    "        if j in positive_tags:\n",
    "            user_sentiments[tweets[i]['username']] = 'positive'\n",
    "        elif j in negative_tags:\n",
    "            user_sentiments[tweets[i]['username']] = 'negative'"
   ]
  },
  {
   "cell_type": "code",
   "execution_count": 12,
   "metadata": {},
   "outputs": [
    {
     "data": {
      "text/plain": [
       "{'user1': 'positive',\n",
       " 'user2': 'negative',\n",
       " 'user3': 'positive',\n",
       " 'user4': 'negative',\n",
       " 'user5': 'positive',\n",
       " 'user6': 'positive',\n",
       " 'user7': 'negative',\n",
       " 'user8': 'negative',\n",
       " 'user9': 'positive',\n",
       " 'user10': 'negative'}"
      ]
     },
     "execution_count": 12,
     "metadata": {},
     "output_type": "execute_result"
    }
   ],
   "source": [
    "user_sentiments"
   ]
  }
 ],
 "metadata": {
  "kernelspec": {
   "display_name": ".venv",
   "language": "python",
   "name": "python3"
  },
  "language_info": {
   "codemirror_mode": {
    "name": "ipython",
    "version": 3
   },
   "file_extension": ".py",
   "mimetype": "text/x-python",
   "name": "python",
   "nbconvert_exporter": "python",
   "pygments_lexer": "ipython3",
   "version": "3.12.3"
  }
 },
 "nbformat": 4,
 "nbformat_minor": 2
}
