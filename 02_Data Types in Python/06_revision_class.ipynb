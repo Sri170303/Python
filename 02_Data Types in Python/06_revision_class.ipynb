{
 "cells": [
  {
   "cell_type": "markdown",
   "metadata": {},
   "source": [
    "#### Revision Class"
   ]
  },
  {
   "cell_type": "code",
   "execution_count": 1,
   "metadata": {},
   "outputs": [
    {
     "name": "stdout",
     "output_type": "stream",
     "text": [
      "Hello, World\n",
      "12\n",
      "H\n",
      "W\n",
      "Hello\n",
      "World\n",
      "Hlo ol\n",
      "HELLO, WORLD\n",
      "hello, world\n",
      "Hello, World\n",
      "True\n",
      "False\n",
      "Hello, Everyone\n",
      "Hello, World\n",
      "['Hello', ' World']\n",
      "Hello World\n",
      "Hello, Alice!\n",
      "Hello, Bob!\n",
      "Hello, Charlie!\n"
     ]
    }
   ],
   "source": [
    "# Basic String Operations\n",
    "\n",
    "str1 = \"Hello\"\n",
    "str2 = \"World\"\n",
    "str3 = str1 + \", \" + str2\n",
    "print(str3)  # \"Hello, World\"\n",
    "\n",
    "print(len(str3))  # 12\n",
    "\n",
    "print(str3[0])  # 'H'\n",
    "print(str3[7])  # 'W'\n",
    "\n",
    "print(str3[0:5])  # 'Hello'\n",
    "print(str3[7:12])  # 'World'\n",
    "print(str3[0:12:2])  # 'Hlo,Wr'\n",
    "\n",
    "# String Methods\n",
    "\n",
    "print(str3.upper())  # \"HELLO, WORLD\"\n",
    "print(str3.lower())  # \"hello, world\"\n",
    "print(str3.title())  # \"Hello, World\"\n",
    "\n",
    "print(str1.isalpha())  # True\n",
    "print(str2.isdigit())  # False\n",
    "\n",
    "print(str3.replace('World', 'Everyone'))  # \"Hello, Everyone\"\n",
    "\n",
    "str4 = \"   Hello, World   \"\n",
    "print(str4.strip())  # \"Hello, World\"\n",
    "\n",
    "print(str3.split(','))  # ['Hello', ' World']\n",
    "\n",
    "list1 = ['Hello', 'World']\n",
    "print(' '.join(list1))  # 'Hello World'\n",
    "\n",
    "# String Formatting\n",
    "\n",
    "name = \"Alice\"\n",
    "print(\"Hello, %s!\" % name)  # 'Hello, Alice!'\n",
    "\n",
    "name = \"Bob\"\n",
    "print(\"Hello, {}!\".format(name))  # 'Hello, Bob!'\n",
    "\n",
    "name = \"Charlie\"\n",
    "print(f\"Hello, {name}!\")  # 'Hello, Charlie!'"
   ]
  }
 ],
 "metadata": {
  "kernelspec": {
   "display_name": ".venv",
   "language": "python",
   "name": "python3"
  },
  "language_info": {
   "codemirror_mode": {
    "name": "ipython",
    "version": 3
   },
   "file_extension": ".py",
   "mimetype": "text/x-python",
   "name": "python",
   "nbconvert_exporter": "python",
   "pygments_lexer": "ipython3",
   "version": "3.12.3"
  }
 },
 "nbformat": 4,
 "nbformat_minor": 2
}
