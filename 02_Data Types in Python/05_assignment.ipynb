{
 "cells": [
  {
   "cell_type": "code",
   "execution_count": 3,
   "metadata": {},
   "outputs": [],
   "source": [
    "# Single line comment\n",
    "\n",
    "\"\"\"\n",
    "Multi line comments\n",
    "are added in this way\n",
    "\"\"\"\n",
    "\n",
    "def test():\n",
    "    '''\n",
    "    Docstring is written in this way.\n",
    "    This function will do nothing.\n",
    "    '''\n",
    "    pass"
   ]
  },
  {
   "cell_type": "code",
   "execution_count": null,
   "metadata": {},
   "outputs": [],
   "source": [
    "test()"
   ]
  },
  {
   "cell_type": "code",
   "execution_count": 4,
   "metadata": {},
   "outputs": [],
   "source": [
    "# variable is name/reference given to storage location that hold value(s)\n",
    "\n",
    "# variable declaration and assingnment\n",
    "a = 22/7"
   ]
  },
  {
   "cell_type": "code",
   "execution_count": 9,
   "metadata": {},
   "outputs": [
    {
     "name": "stdout",
     "output_type": "stream",
     "text": [
      "3\n",
      "22.0\n",
      "1234\n",
      "22\n",
      "[1, 3, 5, 6, 7, 8]\n",
      "(1, 2, 3, 4, 5)\n"
     ]
    }
   ],
   "source": [
    "# data type conversion\n",
    "int1 = 22\n",
    "float1 = 3.1415\n",
    "str1 = \"1234\"\n",
    "list1 = [1, 2, 3, 4, 5]\n",
    "tup1 = (1, 3, 5, 6, 7, 8)\n",
    "\n",
    "int_from_float = int(float1)\n",
    "float_from_int = float(int1)\n",
    "int_from_str = int(str1)\n",
    "str_from_int = str(int1)\n",
    "list_from_tuple = list(tup1)\n",
    "tuple_from_list = tuple(list1)\n",
    "\n",
    "print(int_from_float, float_from_int, int_from_str, str_from_int, list_from_tuple, tuple_from_list, sep = '\\n')"
   ]
  },
  {
   "cell_type": "code",
   "execution_count": 24,
   "metadata": {},
   "outputs": [
    {
     "data": {
      "text/html": [
       "<img src=\"./script.png\"/>"
      ],
      "text/plain": [
       "<IPython.core.display.Image object>"
      ]
     },
     "metadata": {},
     "output_type": "display_data"
    },
    {
     "data": {
      "text/html": [
       "<img src=\"./terminal_output.png\"/>"
      ],
      "text/plain": [
       "<IPython.core.display.Image object>"
      ]
     },
     "metadata": {},
     "output_type": "display_data"
    }
   ],
   "source": [
    "# Writing and Executing Python Script from Command Line\n",
    "# 1. Write script in a file and save it with .py extension\n",
    "# 2. Save the file and open terminal at the location where file is present.\n",
    "# 3. Execute command python <filename.py>\n",
    "\n",
    "\n",
    "# A file sample.py is created and executed using the following steps\n",
    "from IPython.display import Image\n",
    "x = Image(url=\"./script.png\")\n",
    "y = Image(url=\"./terminal_output.png\")\n",
    "display(x, y)"
   ]
  },
  {
   "cell_type": "code",
   "execution_count": 10,
   "metadata": {},
   "outputs": [
    {
     "data": {
      "text/plain": [
       "[2, 3]"
      ]
     },
     "execution_count": 10,
     "metadata": {},
     "output_type": "execute_result"
    }
   ],
   "source": [
    "# list slicing\n",
    "my_list = [1, 2, 3, 4, 5]\n",
    "my_list[1:3]"
   ]
  },
  {
   "cell_type": "code",
   "execution_count": 11,
   "metadata": {},
   "outputs": [],
   "source": [
    "# Complex numbers are written in form of a + ib in mathematics\n",
    "# In python complex numbers are stored using below syntax\n",
    "\n",
    "complex1 = 25 + 25j"
   ]
  },
  {
   "cell_type": "code",
   "execution_count": 12,
   "metadata": {},
   "outputs": [],
   "source": [
    "# variable name declaration and assignment\n",
    "age = 25"
   ]
  },
  {
   "cell_type": "code",
   "execution_count": 13,
   "metadata": {},
   "outputs": [
    {
     "data": {
      "text/plain": [
       "float"
      ]
     },
     "execution_count": 13,
     "metadata": {},
     "output_type": "execute_result"
    }
   ],
   "source": [
    "# checking data type of variable\n",
    "price = 9.99\n",
    "type(price)"
   ]
  },
  {
   "cell_type": "code",
   "execution_count": 14,
   "metadata": {},
   "outputs": [
    {
     "name": "stdout",
     "output_type": "stream",
     "text": [
      "Sri Darsan Sah\n"
     ]
    }
   ],
   "source": [
    "# printing value in a variable\n",
    "name = \"Sri Darsan Sah\"\n",
    "print(name)"
   ]
  },
  {
   "cell_type": "code",
   "execution_count": 17,
   "metadata": {},
   "outputs": [
    {
     "data": {
      "text/plain": [
       "'World'"
      ]
     },
     "execution_count": 17,
     "metadata": {},
     "output_type": "execute_result"
    }
   ],
   "source": [
    "# String Slicing\n",
    "str1 = \"Hello, World!\"\n",
    "str1[7:12]"
   ]
  },
  {
   "cell_type": "code",
   "execution_count": 18,
   "metadata": {},
   "outputs": [],
   "source": [
    "# boolean variable declaration\n",
    "is_student = True"
   ]
  },
  {
   "cell_type": "code",
   "execution_count": null,
   "metadata": {},
   "outputs": [],
   "source": []
  }
 ],
 "metadata": {
  "kernelspec": {
   "display_name": ".venv",
   "language": "python",
   "name": "python3"
  },
  "language_info": {
   "codemirror_mode": {
    "name": "ipython",
    "version": 3
   },
   "file_extension": ".py",
   "mimetype": "text/x-python",
   "name": "python",
   "nbconvert_exporter": "python",
   "pygments_lexer": "ipython3",
   "version": "3.12.3"
  }
 },
 "nbformat": 4,
 "nbformat_minor": 2
}
