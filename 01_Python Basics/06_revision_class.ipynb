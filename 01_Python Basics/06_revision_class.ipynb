{
 "cells": [
  {
   "cell_type": "markdown",
   "metadata": {},
   "source": [
    "#### We have to build a students database wherein we will have:\n",
    "- student_id\n",
    "- gender\n",
    "- department\n",
    "- sessional_marks\n",
    "- total_marks\n",
    "- backlogs"
   ]
  },
  {
   "cell_type": "code",
   "execution_count": 1,
   "metadata": {},
   "outputs": [],
   "source": [
    "student_ids = ['s01', 's02', 's03', 's04', 's05']\n",
    "gender = ['m', 'f', 'm', 'f', 'm']\n",
    "dept = ['cse', 'me', 'ece', 'cse', 'me']\n",
    "sessional_marks = [45, 60, 72, 71, 65]\n",
    "total_marks = [720, 680, 650, 520, 800]\n",
    "backlogs = ['nb', 'nb', 'nb', 'nb', 'nb']"
   ]
  },
  {
   "cell_type": "markdown",
   "metadata": {},
   "source": [
    "#### if any student has achieved marks in sessional greater than 70 the increase there total marks by 2%"
   ]
  },
  {
   "cell_type": "code",
   "execution_count": 2,
   "metadata": {},
   "outputs": [
    {
     "name": "stdout",
     "output_type": "stream",
     "text": [
      "s01 marks lesser than 70\n",
      "s02 marks lesser than 70\n",
      "s03 marks updated\n",
      "s04 marks updated\n",
      "s05 marks lesser than 70\n"
     ]
    }
   ],
   "source": [
    "for i in range(len(student_ids)):\n",
    "    if sessional_marks[i] > 70:\n",
    "        total_marks[i] = total_marks[i] + total_marks[i] * 0.02\n",
    "        print(f'{student_ids[i]} marks updated')\n",
    "    else:\n",
    "        print(f\"{student_ids[i]} marks lesser than 70\")"
   ]
  },
  {
   "cell_type": "markdown",
   "metadata": {},
   "source": [
    "#### Student s03 and s04 have got backlog notice. Update the database."
   ]
  },
  {
   "cell_type": "code",
   "execution_count": 3,
   "metadata": {},
   "outputs": [
    {
     "name": "stdout",
     "output_type": "stream",
     "text": [
      "s01 has no backlogs\n",
      "s02 has no backlogs\n",
      "s03 has got a backlog\n",
      "s04 has got a backlog\n",
      "s05 has no backlogs\n"
     ]
    }
   ],
   "source": [
    "updated_backlogs = ['s03', 's04']\n",
    "\n",
    "for i in range(len(student_ids)):\n",
    "    if student_ids[i] in updated_backlogs:\n",
    "        backlogs[i] = 'b'\n",
    "        print(f'{student_ids[i]} has got a backlog')\n",
    "    else:\n",
    "        print(f'{student_ids[i]} has no backlogs')"
   ]
  },
  {
   "cell_type": "markdown",
   "metadata": {},
   "source": [
    "#### if a student's total marks is greater than 700 and has no active backlogs then they will get \"High Achiever Scholarship\"\n",
    "#### if a student's total marks is greater than 600 and has no active backlogs then they will get \"Achiever Scholarship\""
   ]
  },
  {
   "cell_type": "code",
   "execution_count": 4,
   "metadata": {},
   "outputs": [
    {
     "name": "stdout",
     "output_type": "stream",
     "text": [
      "High Achiever Scholarship to s01\n",
      "Achiever Scholarship to s02\n",
      "No scholarship for s03\n",
      "No scholarship for s04\n",
      "High Achiever Scholarship to s05\n"
     ]
    }
   ],
   "source": [
    "scholarships = ['N.A.' for _ in range(len(student_ids)) ]\n",
    "\n",
    "for i in range(len(student_ids)):\n",
    "    if total_marks[i] > 700 and backlogs[i] == 'nb':\n",
    "        scholarships[i] = 'High Achiever Scholarship'\n",
    "        print(f\"High Achiever Scholarship to {student_ids[i]}\")\n",
    "    elif total_marks[i] > 600 and backlogs[i] == 'nb':\n",
    "        scholarships[i] = 'Achiever Scholarship'\n",
    "        print(f\"Achiever Scholarship to {student_ids[i]}\")\n",
    "    else:\n",
    "        print(f\"No scholarship for {student_ids[i]}\")\n"
   ]
  },
  {
   "cell_type": "code",
   "execution_count": 5,
   "metadata": {},
   "outputs": [
    {
     "data": {
      "text/plain": [
       "['High Achiever Scholarship',\n",
       " 'Achiever Scholarship',\n",
       " 'N.A.',\n",
       " 'N.A.',\n",
       " 'High Achiever Scholarship']"
      ]
     },
     "execution_count": 5,
     "metadata": {},
     "output_type": "execute_result"
    }
   ],
   "source": [
    "scholarships"
   ]
  },
  {
   "cell_type": "code",
   "execution_count": 6,
   "metadata": {},
   "outputs": [],
   "source": [
    "std_db = {\n",
    "    'student_ids': student_ids,\n",
    "    'gender': gender,\n",
    "    'dept': dept,\n",
    "    'sessional_marks': sessional_marks,\n",
    "    'total_marks': total_marks,\n",
    "    'backlogs': backlogs,\n",
    "    'scholarships': scholarships\n",
    "}"
   ]
  },
  {
   "cell_type": "code",
   "execution_count": 7,
   "metadata": {},
   "outputs": [
    {
     "data": {
      "text/plain": [
       "{'student_ids': ['s01', 's02', 's03', 's04', 's05'],\n",
       " 'gender': ['m', 'f', 'm', 'f', 'm'],\n",
       " 'dept': ['cse', 'me', 'ece', 'cse', 'me'],\n",
       " 'sessional_marks': [45, 60, 72, 71, 65],\n",
       " 'total_marks': [720, 680, 663.0, 530.4, 800],\n",
       " 'backlogs': ['nb', 'nb', 'b', 'b', 'nb'],\n",
       " 'scholarships': ['High Achiever Scholarship',\n",
       "  'Achiever Scholarship',\n",
       "  'N.A.',\n",
       "  'N.A.',\n",
       "  'High Achiever Scholarship']}"
      ]
     },
     "execution_count": 7,
     "metadata": {},
     "output_type": "execute_result"
    }
   ],
   "source": [
    "std_db"
   ]
  },
  {
   "cell_type": "code",
   "execution_count": null,
   "metadata": {},
   "outputs": [],
   "source": []
  }
 ],
 "metadata": {
  "kernelspec": {
   "display_name": "Python 3",
   "language": "python",
   "name": "python3"
  },
  "language_info": {
   "codemirror_mode": {
    "name": "ipython",
    "version": 3
   },
   "file_extension": ".py",
   "mimetype": "text/x-python",
   "name": "python",
   "nbconvert_exporter": "python",
   "pygments_lexer": "ipython3",
   "version": "3.12.6"
  }
 },
 "nbformat": 4,
 "nbformat_minor": 2
}
