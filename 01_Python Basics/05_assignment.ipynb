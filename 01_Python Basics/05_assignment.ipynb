{
 "cells": [
  {
   "cell_type": "markdown",
   "metadata": {},
   "source": [
    "#### Assignment Solutions"
   ]
  },
  {
   "cell_type": "code",
   "execution_count": 1,
   "metadata": {},
   "outputs": [],
   "source": [
    "# variable creation\n",
    "str1 = \"Taj Mahal\"\n",
    "list1 = [1, 2, 3, True, \"jerry\", 365.25]\n",
    "float1 = 3.14\n",
    "tuple1 = (1, 2, 3, True, \"jerry\", 365.25)"
   ]
  },
  {
   "cell_type": "code",
   "execution_count": 2,
   "metadata": {},
   "outputs": [],
   "source": [
    "# data type identification\n",
    "var1 = '' # str\n",
    "var2 = '[DS, ML, Python]' # str\n",
    "var3 = ['DS', 'ML', 'Python'] # list\n",
    "var4 = 1. # float"
   ]
  },
  {
   "cell_type": "code",
   "execution_count": 3,
   "metadata": {},
   "outputs": [
    {
     "name": "stdout",
     "output_type": "stream",
     "text": [
      "3.2\n",
      "2\n",
      "3\n",
      "1125899906842624\n"
     ]
    }
   ],
   "source": [
    "# use of operators\n",
    "a, b = 32, 10\n",
    "c = a / b # precise division\n",
    "d = a % b # modulus\n",
    "e = a // b # floor division\n",
    "f = a ** b # exponentiation\n",
    "\n",
    "print(c, d, e, f, sep = '\\n' )"
   ]
  },
  {
   "cell_type": "code",
   "execution_count": 4,
   "metadata": {},
   "outputs": [
    {
     "name": "stdout",
     "output_type": "stream",
     "text": [
      "128\t<class 'int'>\n",
      "365.25\t<class 'float'>\n",
      "True\t<class 'bool'>\n",
      "jerry\t<class 'str'>\n",
      "(5+5j)\t<class 'complex'>\n",
      "[1, 2, 3, 4]\t<class 'list'>\n",
      "(11, 22, 33, 44)\t<class 'tuple'>\n",
      "{444, 333, 222, 111}\t<class 'set'>\n",
      "{'name': 'John Snow', 'address': 'Winterfell'}\t<class 'dict'>\n",
      "range(0, 10)\t<class 'range'>\n"
     ]
    }
   ],
   "source": [
    "# list of length 10\n",
    "list1 = [128, 365.25, True, \"jerry\", 5+5j, [1,2,3,4], (11, 22, 33, 44), {111, 222, 333, 444}, {'name':'John Snow', 'address':'Winterfell'}, range(10)]\n",
    "\n",
    "# listing all items and data type of each item\n",
    "for i in list1:\n",
    "    print(i, type(i), sep = '\\t')"
   ]
  },
  {
   "cell_type": "code",
   "execution_count": 5,
   "metadata": {},
   "outputs": [
    {
     "name": "stdout",
     "output_type": "stream",
     "text": [
      "A = 1024\n",
      "B = 8\n",
      "A divisible by B 128 times\n"
     ]
    }
   ],
   "source": [
    "# variables \n",
    "A = int(input(\"Enter A: \"))\n",
    "B = int(input(\"Enter B: \"))\n",
    "\n",
    "print(f\"A = {A}\\nB = {B}\")\n",
    "i = 0\n",
    "\n",
    "while (A >= B):\n",
    "    i += 1\n",
    "    A = A - B\n",
    "\n",
    "if A == 0:\n",
    "    print(f\"A divisible by B {i} times\")\n",
    "else:\n",
    "    print(\"A is not divisible by B\")"
   ]
  },
  {
   "cell_type": "code",
   "execution_count": 6,
   "metadata": {},
   "outputs": [
    {
     "name": "stdout",
     "output_type": "stream",
     "text": [
      "855 is divisible by 3\n",
      "775 is not divisible by 3\n",
      "334 is not divisible by 3\n",
      "503 is not divisible by 3\n",
      "581 is not divisible by 3\n",
      "139 is not divisible by 3\n",
      "471 is divisible by 3\n",
      "330 is divisible by 3\n",
      "682 is not divisible by 3\n",
      "686 is not divisible by 3\n",
      "235 is not divisible by 3\n",
      "544 is not divisible by 3\n",
      "472 is not divisible by 3\n",
      "565 is not divisible by 3\n",
      "483 is divisible by 3\n",
      "505 is not divisible by 3\n",
      "556 is not divisible by 3\n",
      "652 is not divisible by 3\n",
      "601 is not divisible by 3\n",
      "493 is not divisible by 3\n",
      "330 is divisible by 3\n",
      "852 is divisible by 3\n",
      "281 is not divisible by 3\n",
      "555 is divisible by 3\n",
      "478 is not divisible by 3\n"
     ]
    }
   ],
   "source": [
    "# use random library to generate data\n",
    "import random\n",
    "\n",
    "l = []\n",
    "for i in range(25):\n",
    "    l.append(random.randint(100,1000))\n",
    "\n",
    "for i in l:\n",
    "    if i % 3 == 0:\n",
    "        print(f'{i} is divisible by 3')\n",
    "    else:\n",
    "        print(f'{i} is not divisible by 3')"
   ]
  },
  {
   "cell_type": "code",
   "execution_count": 7,
   "metadata": {},
   "outputs": [],
   "source": [
    "# difference between mutable and immutable data types\n",
    "\n",
    "str1 = \"jerry\"\n",
    "list1 = ['j', 'e', 'r', 'r', 'y']\n",
    "\n",
    "# str1[0] = 'b' gives error because str object is immutable\n",
    "\n",
    "list1[0] = 'b'  # is a valid operation as list object is mutable\n"
   ]
  },
  {
   "cell_type": "code",
   "execution_count": null,
   "metadata": {},
   "outputs": [],
   "source": []
  }
 ],
 "metadata": {
  "kernelspec": {
   "display_name": "Python 3",
   "language": "python",
   "name": "python3"
  },
  "language_info": {
   "codemirror_mode": {
    "name": "ipython",
    "version": 3
   },
   "file_extension": ".py",
   "mimetype": "text/x-python",
   "name": "python",
   "nbconvert_exporter": "python",
   "pygments_lexer": "ipython3",
   "version": "3.12.6"
  }
 },
 "nbformat": 4,
 "nbformat_minor": 2
}
